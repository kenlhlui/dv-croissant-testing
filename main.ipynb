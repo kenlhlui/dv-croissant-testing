{
 "cells": [
  {
   "cell_type": "code",
   "execution_count": 1,
   "id": "4de3173b",
   "metadata": {},
   "outputs": [],
   "source": [
    "import httpx\n",
    "import orjson\n",
    "import pandas as pd\n",
    "import re\n"
   ]
  },
  {
   "cell_type": "markdown",
   "id": "be1889a2",
   "metadata": {},
   "source": [
    "The source dataset to be tested: https://borealisdata.ca/dataset.xhtml?persistentId=doi:10.5683/SP3/3N6JVZ&version=1.0"
   ]
  },
  {
   "cell_type": "code",
   "execution_count": 2,
   "id": "ad63ab6c",
   "metadata": {},
   "outputs": [],
   "source": [
    "# Read the dataset native JSON using the exporter \n",
    "native_json = httpx.get('https://borealisdata.ca/api/datasets/export?exporter=dataverse_json&persistentId=doi%3A10.5683/SP3/3N6JVZ').json()"
   ]
  },
  {
   "cell_type": "code",
   "execution_count": 3,
   "id": "c6092cbc",
   "metadata": {},
   "outputs": [],
   "source": [
    "# Read the dataset croissant JSON using the exporter\n",
    "croissant_json = httpx.get('https://borealisdata.ca/api/datasets/export?exporter=croissant&persistentId=doi%3A10.5683/SP3/3N6JVZ').json()"
   ]
  },
  {
   "cell_type": "code",
   "execution_count": null,
   "id": "ee3da8a3",
   "metadata": {},
   "outputs": [],
   "source": [
    "# Define the base download URL for a data file\n",
    "DF_BASE_URL = 'https://borealisdata.ca/api/access/datafile/' "
   ]
  },
  {
   "cell_type": "code",
   "execution_count": null,
   "id": "62e4fc17",
   "metadata": {},
   "outputs": [],
   "source": [
    "# Loop through the native JSON file and extract the file name, file id their respective URLs\n",
    "native_json_files_list = native_json.get('datasetVersion').get('files')  # Get the list of files\n",
    "\n",
    "# Create a list to store the file names and URLs\n",
    "native_json_files_list_parsed = []\n",
    "for item in native_json_files_list:\n",
    "    # Extract the file name; Get the original file name first if it exists\n",
    "    file_name = item.get('dataFile').get('originalFileName') or item.get('dataFile').get('filename')\n",
    "    # Extract the file directory\n",
    "    file_directory = item.get('directoryLabel')\n",
    "    # Join the file directory and file name\n",
    "    file_abs_path = f\"{file_directory}/{file_name}\" if file_directory else file_name\n",
    "    # Extract the file id\n",
    "    file_id = item.get('dataFile').get('id')\n",
    "    # Extract the file md5\n",
    "    file_md5 = item.get('dataFile').get('md5')\n",
    "    # Construct the download URL\n",
    "    # If the original file name exists add original parameter to the URL\n",
    "    if item.get('dataFile').get('originalFileName'):\n",
    "        # If the original file name exists add original parameter to the URL\n",
    "        download_url = f\"{DF_BASE_URL}{file_id}?format=original\"\n",
    "    else:\n",
    "        download_url = f\"{DF_BASE_URL}{file_id}\"\n",
    "    # Append the file name and URL to the list\n",
    "    native_json_files_list_parsed.append({\n",
    "        'file_abs_path': file_abs_path,\n",
    "        'file_id': file_id,\n",
    "        'download_url': download_url,\n",
    "        'file_md5': file_md5\n",
    "    })"
   ]
  },
  {
   "cell_type": "code",
   "execution_count": null,
   "id": "d245d999",
   "metadata": {},
   "outputs": [],
   "source": [
    "# Loop through the croissant JSON file and extract the file name, their respective URLs\n",
    "# Get the 'distribution' from the croissant JSON\n",
    "croissant_json_files_list = croissant_json.get('distribution')  # Get the list of files\n",
    "\n",
    "# Create a list to store the file names and URLs\n",
    "croissant_json_files_list_parsed = []\n",
    "for item in croissant_json_files_list:\n",
    "    if item.get('@type') == 'cr:FileObject':\n",
    "        # Extract the file id (that is the absolute path of the file)\n",
    "        file_abs_path = item.get('@id')\n",
    "        # Extract the data file access url\n",
    "        download_url = item.get('contentUrl')\n",
    "        # Base on the download_url, extract the file id\n",
    "        file_id = int(re.findall(r'\\d+', download_url)[0]) if download_url else None\n",
    "        # Extract the file md5\n",
    "        file_md5 = item.get('md5')\n",
    "        # Append the file name, file_id and download_url to the list\n",
    "        croissant_json_files_list_parsed.append({\n",
    "            'file_abs_path': file_abs_path,\n",
    "            'file_id': file_id,\n",
    "            'download_url': download_url,\n",
    "            'file_md5': file_md5\n",
    "        })\n"
   ]
  },
  {
   "cell_type": "code",
   "execution_count": null,
   "id": "d60d81e6",
   "metadata": {},
   "outputs": [],
   "source": [
    "# Compare the two lists, the source is the native JSON and the target is the croissant JSON\n",
    "# Create a DataFrame from the native JSON files list\n",
    "native_json_df = pd.DataFrame(native_json_files_list_parsed)\n",
    "# Create a DataFrame from the croissant JSON files list\n",
    "croissant_json_df = pd.DataFrame(croissant_json_files_list_parsed)\n",
    "\n",
    "# Merge the two DataFrames on the 'file_md5' column\n",
    "merged_df = pd.merge(native_json_df, croissant_json_df, on='file_md5', how='outer', suffixes=('_native', '_croissant'))"
   ]
  },
  {
   "cell_type": "code",
   "execution_count": 8,
   "id": "396cf285",
   "metadata": {},
   "outputs": [],
   "source": [
    "# Check if the file_abs_path_native and file_abs_path_croissant are the same\n",
    "merged_df['file_abs_path_match'] = merged_df['file_abs_path_native'] == merged_df['file_abs_path_croissant']\n",
    "\n",
    "# Check if file_id_native and file_id_croissant are the same\n",
    "merged_df['file_id_match'] = merged_df['file_id_native'] == merged_df['file_id_croissant']"
   ]
  },
  {
   "cell_type": "code",
   "execution_count": 9,
   "id": "61c4eab8",
   "metadata": {},
   "outputs": [],
   "source": [
    "# Export the merged DataFrame to a CSV file\n",
    "merged_df.to_csv('borealis_ds_json_vs_croissant.csv', index=False)"
   ]
  }
 ],
 "metadata": {
  "kernelspec": {
   "display_name": ".venv",
   "language": "python",
   "name": "python3"
  },
  "language_info": {
   "codemirror_mode": {
    "name": "ipython",
    "version": 3
   },
   "file_extension": ".py",
   "mimetype": "text/x-python",
   "name": "python",
   "nbconvert_exporter": "python",
   "pygments_lexer": "ipython3",
   "version": "3.12.3"
  }
 },
 "nbformat": 4,
 "nbformat_minor": 5
}
